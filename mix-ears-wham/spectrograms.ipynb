{
 "cells": [
  {
   "cell_type": "code",
   "execution_count": 1,
   "id": "68a07bc0",
   "metadata": {},
   "outputs": [],
   "source": [
    "import torch\n",
    "import torchaudio\n",
    "import matplotlib.pyplot as plt\n",
    "import os"
   ]
  },
  {
   "cell_type": "code",
   "execution_count": 2,
   "id": "17147e2b",
   "metadata": {},
   "outputs": [],
   "source": [
    "stft = torchaudio.transforms.Spectrogram(\n",
    "    n_fft=400,\n",
    "    win_length=400,\n",
    "    hop_length=200,\n",
    "    window_fn=torch.hamming_window,\n",
    "    power=1,\n",
    "    normalized=True,\n",
    "    center=False,\n",
    ")"
   ]
  },
  {
   "cell_type": "code",
   "execution_count": 3,
   "id": "521ef68d",
   "metadata": {},
   "outputs": [],
   "source": [
    "audio_path = r\"C:\\Users\\toviste\\Local_Documents\\Local_Python\\ovistetom.github.io\\mix-ears-wham\\audio\"\n",
    "figures_path = r\"C:\\Users\\toviste\\Local_Documents\\Local_Python\\ovistetom.github.io\\mix-ears-wham\\figures\""
   ]
  },
  {
   "cell_type": "code",
   "execution_count": 6,
   "id": "651208ec",
   "metadata": {},
   "outputs": [],
   "source": [
    "plt.ioff()\n",
    "for sample_name in os.listdir(audio_path):\n",
    "    sample_path = os.path.join(audio_path, sample_name)\n",
    "    for file_name in os.listdir(sample_path):\n",
    "        file_path = os.path.join(sample_path, file_name)\n",
    "        if file_name.endswith(\".mp3\") and (file_name.startswith(\"x\") or file_name.startswith(\"y\") or file_name.startswith(\"n\")):\n",
    "            waveform, sample_rate = torchaudio.load(file_path)\n",
    "            specgram = stft(waveform[0])\n",
    "            fig, axs = plt.subplots(1, 1, figsize=(12, 8))\n",
    "            plt.imshow(20*torch.log10(specgram+1e-8), vmin=-60, vmax=+10, aspect='auto', origin='lower', cmap='inferno')\n",
    "            axs.set_axis_off()\n",
    "            axs.set_ylim(0, 150)\n",
    "            fig.tight_layout()\n",
    "            plt.savefig(os.path.join(figures_path, sample_name, file_name.replace(\".mp3\", \".png\")))\n"
   ]
  },
  {
   "cell_type": "code",
   "execution_count": null,
   "id": "1612c14d",
   "metadata": {},
   "outputs": [],
   "source": [
    "file_name"
   ]
  },
  {
   "cell_type": "code",
   "execution_count": null,
   "id": "3d5ee281",
   "metadata": {},
   "outputs": [],
   "source": []
  }
 ],
 "metadata": {
  "kernelspec": {
   "display_name": "base",
   "language": "python",
   "name": "python3"
  },
  "language_info": {
   "codemirror_mode": {
    "name": "ipython",
    "version": 3
   },
   "file_extension": ".py",
   "mimetype": "text/x-python",
   "name": "python",
   "nbconvert_exporter": "python",
   "pygments_lexer": "ipython3",
   "version": "3.12.7"
  }
 },
 "nbformat": 4,
 "nbformat_minor": 5
}
